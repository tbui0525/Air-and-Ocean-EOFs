{
 "cells": [
  {
   "cell_type": "code",
   "execution_count": null,
   "id": "7b7a02a9",
   "metadata": {},
   "outputs": [],
   "source": [
    "import PIL\n",
    "from PIL import Image\n",
    "import numpy as np"
   ]
  },
  {
   "cell_type": "code",
   "execution_count": null,
   "id": "3af569de",
   "metadata": {},
   "outputs": [],
   "source": [
    "import netCDF4 as nc\n",
    "from netCDF4 import Dataset\n",
    "import matplotlib.pyplot as plt\n",
    "import os\n",
    "os.environ[\"PROJ_LIB\"] = \"C:\\\\Utilities\\\\Python\\\\Anaconda\\\\Library\\\\share\"; #fixr\n",
    "from mpl_toolkits.basemap import Basemap"
   ]
  },
  {
   "cell_type": "markdown",
   "id": "7ba8b2bd",
   "metadata": {},
   "source": [
    "## Creating 2D Images of all layers before putting it into GIF"
   ]
  },
  {
   "cell_type": "code",
   "execution_count": null,
   "id": "2cf97833",
   "metadata": {},
   "outputs": [],
   "source": [
    "air_file = nc.Dataset('data/air.mon.meanv3.nc')\n",
    "air_lons = air_file.variables['lon'][:]\n",
    "air_lats = air_file.variables['lat'][:]\n",
    "pressure = air_file.variables['level'][:]\n",
    "air_size = air_file.variables['air'][0].size\n",
    "layer = air_file.variables['air'][0,0].size\n",
    "xxair, yyair = np.meshgrid(air_lons, air_lats)\n",
    "\n",
    "water_file = nc.Dataset('data/pottmp.1998.nc')\n",
    "water_lons = water_file.variables['lon'][:]\n",
    "water_lats = water_file.variables['lat'][:]\n",
    "xxwater, yywater = np.meshgrid(water_lons, water_lats)"
   ]
  },
  {
   "cell_type": "code",
   "execution_count": null,
   "id": "a7326668",
   "metadata": {},
   "outputs": [],
   "source": [
    "import matplotlib.colors as colors\n",
    "colors1 = plt.cm.winter(np.linspace(0, 1, 500))\n",
    "colors2 = plt.cm.hot_r(np.linspace(0, 0.9, 500))\n",
    "\n",
    "# combine them and build a new colormap\n",
    "color = np.vstack((colors1, colors2))\n",
    "mymap = colors.LinearSegmentedColormap.from_list('my_colormap', color)"
   ]
  },
  {
   "cell_type": "code",
   "execution_count": null,
   "id": "8188c3fb",
   "metadata": {},
   "outputs": [],
   "source": [
    "#For this example, we will look at January. Works for all months\n",
    "eofs = np.load('January Physical EOFs.npy')\n",
    "\n",
    "#Making Water 2D Image\n",
    "ig = plt.figure(figsize=(20,8))\n",
    "m = Basemap(projection = 'cyl', llcrnrlon = 0, urcrnrlon = 360,\n",
    "            llcrnrlat = -90, urcrnrlat = 90, resolution = 'c')\n",
    "#0 for mode 1. For different mode, change 0 to mode-1\n",
    "Z = 0-np.reshape(eofs[air_size:,0], xxwater.shape)\n",
    "zmin = np.nanmin(Z)\n",
    "zmax = np.nanmax(Z)\n",
    "zlim = np.minimum(np.abs(zmin), zmax)\n",
    "surface = np.clip(Z, -zlim, zlim)\n",
    "vmax = np.nanmax(surface)\n",
    "vmin = np.nanmin(surface)\n",
    "\n",
    "norm = colors.TwoSlopeNorm(vmin = vmin, vcenter=0.0, vmax = vmax)\n",
    "m.pcolormesh(xxwater,yywater,surface,norm = norm, shading='auto',cmap=mymap)\n",
    "cb = m.colorbar(location='right')\n",
    "cb.ax.tick_params(labelsize=20)\n",
    "m.drawcoastlines()\n",
    "m.drawmapboundary()\n",
    "m.drawparallels(np.arange(-90.,90.,30.),labels=[1,0,0,0], size = 20)\n",
    "m.drawmeridians(np.arange(-180.,180.,60.),labels=[0,0,0,1], size = 20)\n",
    "plt.title('January Physical EOFs at  5m. Mode 1' , size = 25)\n",
    "\n",
    "plt.savefig('images/January Air and Ocean Physical EOF Mode 1 1')\n"
   ]
  },
  {
   "cell_type": "code",
   "execution_count": null,
   "id": "a7d8d2be",
   "metadata": {},
   "outputs": [],
   "source": [
    "for i in range(0,pressure.size-1):\n",
    "    ig=plt.figure(figsize=(20, 8) )\n",
    "\n",
    "\n",
    "    m=Basemap(projection = 'cyl', llcrnrlon = 0, urcrnrlon = 360,\n",
    "            llcrnrlat = -90, urcrnrlat = 90, resolution = 'c')\n",
    "\n",
    "    Z =0-np.reshape(eofs[layer*i:layer*(i+1),0],xxair.shape)\n",
    "    zmin = np.nanmin(Z)\n",
    "    zmax = np.nanmax(Z)\n",
    "    zlim = np.minimum(np.abs(zmin), zmax)\n",
    "    surface = np.clip(Z, -zlim, zlim)        \n",
    "    vmax = np.nanmax(surface)\n",
    "    vmin = np.nanmin(surface)\n",
    "    norm = colors.TwoSlopeNorm(vmin = vmin, vcenter=0.0, vmax = vmax)\n",
    "\n",
    "    m.pcolormesh(xxair,yyair,surface,norm = norm, shading='auto',cmap=mymap)\n",
    "    cb = m.colorbar(location='right')\n",
    "    cb.ax.tick_params(labelsize=20)\n",
    "    m.drawcoastlines()\n",
    "    m.drawmapboundary()\n",
    "    m.drawparallels(np.arange(-90.,90.,30.),labels=[1,0,0,0], size = 20)\n",
    "    m.drawmeridians(np.arange(-180.,180.,60.),labels=[0,0,0,1], size = 20)\n",
    "    plt.title('January Air Physical EOFs at '+ str(pressure[i]) + ' mbar. Mode 1', size = 25)\n",
    "    plt.savefig('images/January Air and Ocean Physical EOF Mode 1 '+str(i+2) + '.png' )"
   ]
  },
  {
   "cell_type": "markdown",
   "id": "95373f15",
   "metadata": {},
   "source": [
    "## Compiling Images to make a GIF"
   ]
  },
  {
   "cell_type": "code",
   "execution_count": null,
   "id": "43b494b9",
   "metadata": {},
   "outputs": [],
   "source": [
    "os.chdir('images')"
   ]
  },
  {
   "cell_type": "code",
   "execution_count": 42,
   "id": "12bc68cf",
   "metadata": {},
   "outputs": [],
   "source": [
    "imageFrames = []\n",
    "r = np.arange(1,pressure.size)\n",
    "for k in r:\n",
    "    newFrame = PIL.Image.open(r'January Air and Ocean Physical EOF Mode 1 '+str(k)+'.png')\n",
    "    imageFrames.append(newFrame)\n",
    "\n",
    "imageFrames[0].save('Ocean and Air Lapse January EOFs Mode 1', format = 'GIF', \n",
    "                   append_images = imageFrames[1:], duration = 500,\n",
    "                   save_all = True, loop = 0)"
   ]
  }
 ],
 "metadata": {
  "kernelspec": {
   "display_name": "Python 3 (ipykernel)",
   "language": "python",
   "name": "python3"
  },
  "language_info": {
   "codemirror_mode": {
    "name": "ipython",
    "version": 3
   },
   "file_extension": ".py",
   "mimetype": "text/x-python",
   "name": "python",
   "nbconvert_exporter": "python",
   "pygments_lexer": "ipython3",
   "version": "3.9.7"
  }
 },
 "nbformat": 4,
 "nbformat_minor": 5
}
