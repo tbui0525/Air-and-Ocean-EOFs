{
 "cells": [
  {
   "cell_type": "code",
   "execution_count": null,
   "id": "fb5b5a68",
   "metadata": {},
   "outputs": [],
   "source": [
    "import netCDF4 as nc\n",
    "from netCDF4 import Dataset\n",
    "import pandas as pd\n",
    "import numpy as np\n",
    "import matplotlib.pyplot as plt\n",
    "from ipywidgets import interact, interactive, fixed, interact_manual\n",
    "from ipywidgets.embed import embed_minimal_html\n",
    "import ipywidgets as widgets\n",
    "import os\n",
    "import scipy.linalg\n",
    "os.environ[\"PROJ_LIB\"] = \"C:\\\\Utilities\\\\Python\\\\Anaconda\\\\Library\\\\share\"; #fixr\n",
    "from mpl_toolkits.basemap import Basemap"
   ]
  },
  {
   "cell_type": "markdown",
   "id": "8392bd57",
   "metadata": {},
   "source": [
    "# Pulling File Data and reshaping into space-time matrix"
   ]
  },
  {
   "cell_type": "code",
   "execution_count": null,
   "id": "ad343b7e",
   "metadata": {},
   "outputs": [],
   "source": [
    "file = 'data/air.mon.meanv3.nc'\n",
    "data = nc.Dataset(file)"
   ]
  },
  {
   "cell_type": "code",
   "execution_count": null,
   "id": "c64ec371",
   "metadata": {},
   "outputs": [],
   "source": [
    "lats = data.variables['lat'][:]\n",
    "lons = data.variables['lon'][:]\n",
    "air = data.variables['air'][:]\n",
    "levels = data.variables['level'][:]\n",
    "\n"
   ]
  },
  {
   "cell_type": "code",
   "execution_count": null,
   "id": "b87b7843",
   "metadata": {},
   "outputs": [],
   "source": [
    "airdata = []\n",
    "for i in range(air.shape[0]):\n",
    "    annual_air = np.array(air[i].flatten()).tolist()\n",
    "    airdata.append(annual_air)\n",
    "airdata= np.array(airdata).T"
   ]
  },
  {
   "cell_type": "markdown",
   "id": "ecc35255",
   "metadata": {},
   "source": [
    "# Preweighted Computations"
   ]
  },
  {
   "cell_type": "code",
   "execution_count": null,
   "id": "16d0f905",
   "metadata": {},
   "outputs": [],
   "source": [
    "import warnings\n",
    "with warnings.catch_warnings():\n",
    "    warnings.simplefilter(\"ignore\", category=RuntimeWarning)\n",
    "    clim = np.nanmean(airdata, axis=1) #calculates climatology\n",
    "    sdev = np.nanstd(airdata, axis = 1) #calculates standard deviation\n",
    "clim = np.reshape(clim, (clim.size, 1))\n",
    "sdev = np.reshape(sdev, (sdev.size,1))"
   ]
  },
  {
   "cell_type": "code",
   "execution_count": null,
   "id": "fd69b7e3",
   "metadata": {},
   "outputs": [],
   "source": [
    "np.seterr(divide= 'ignore', invalid = 'ignore')\n",
    "stnd_anom = (airdata- clim)/sdev #computing standard anomalies by subtracting mean and dividing by standard dev"
   ]
  },
  {
   "cell_type": "markdown",
   "id": "1d58bc84",
   "metadata": {},
   "source": [
    "# Weighted computations"
   ]
  },
  {
   "cell_type": "code",
   "execution_count": null,
   "id": "959128d9",
   "metadata": {},
   "outputs": [],
   "source": [
    "# Constants\n",
    "p = 101325e-2 #standard pressure\n",
    "r = 8.31432 #gas constant\n",
    "m = 0.0289644 #molar mass of air\n",
    "g = 9.8 #gravity m/s^2"
   ]
  },
  {
   "cell_type": "markdown",
   "id": "cca9801f",
   "metadata": {},
   "source": [
    "## Air heights (approximated with hypsometric equation. Assume $P_0 = 1013.25$ mbar and $h_0 = 0$ \n",
    "\n",
    "$$\n",
    "P_n = P_{n-1}e^{\\frac{-gM(h_n-h_{n-1})}{RT}}\n",
    "$$"
   ]
  },
  {
   "cell_type": "code",
   "execution_count": null,
   "id": "d5eb4e88",
   "metadata": {},
   "outputs": [],
   "source": [
    "airheights = []\n",
    "for i in range(0, 360*181):\n",
    "    airheights.append(r*clim[i]/(-g*m)*np.log(levels[int(i/(181*360))]/p))\n",
    "for i in range(181*360, clim.size):\n",
    "    airheights.append(r*clim[i]/(-g*m)*np.log(levels[int(i/(181*360))]/levels[int(i/(181*360))-1]) +airheights[i-(181*360)])\n",
    "airheights = np.array(airheights)\n",
    "airheights = np.reshape(airheights, (airheights.size, 1))"
   ]
  },
  {
   "cell_type": "markdown",
   "id": "ff6d858b",
   "metadata": {},
   "source": [
    "## Thickness: $\\Delta z_{ij}$"
   ]
  },
  {
   "cell_type": "code",
   "execution_count": null,
   "id": "3d6e6ddb",
   "metadata": {},
   "outputs": [],
   "source": [
    "thickness = np.empty([stnd_anom.shape[0], 1])\n",
    "thickness[0:181*360] = airheights[0:181*360]\n",
    "for i in range(181*360, air[0].size):\n",
    "    thickness[i] = airheights[i] - airheights[i-181*360]"
   ]
  },
  {
   "cell_type": "markdown",
   "id": "88335530",
   "metadata": {},
   "source": [
    "## Accounting for changes in latitude: $\\sqrt{\\cos{\\phi}}$"
   ]
  },
  {
   "cell_type": "code",
   "execution_count": null,
   "id": "3ea5fcf3",
   "metadata": {},
   "outputs": [],
   "source": [
    "xxair, yyair = np.meshgrid(lons, lats) #creates meshgrid\n",
    "\n",
    "#Creating array associating all points with their latitude\n",
    "lats4air = np.array(yyair).flatten().tolist()\n",
    "lats4weighing = []\n",
    "for i in range(levels.size):\n",
    "    lats4weighing += lats4air\n",
    "lats4weighing = np.array(lats4weighing)\n",
    "lats4weighing.shape\n",
    "\n",
    "#square root of the cosine of the latitude\n",
    "weightedA = np.sqrt(np.cos(lats4weighing*np.pi/180))\n",
    "weightedA = np.reshape(weightedA, (weightedA.size, 1))\n",
    "weightedA.shape"
   ]
  },
  {
   "cell_type": "markdown",
   "id": "c1cf72b4",
   "metadata": {},
   "source": [
    "## Density of air: $\\rho$\n",
    "\n",
    "* calculated using the NASA's Earth Atmosphere Model with given pressure and temperature. https://www.grc.nasa.gov/www/k-12/airplane/atmosmet.html"
   ]
  },
  {
   "cell_type": "code",
   "execution_count": null,
   "id": "a03dfe0a",
   "metadata": {},
   "outputs": [],
   "source": [
    "density = np.empty([weightedA.shape[0], 1])\n",
    "for i in range(0,air[0].size):\n",
    "    density[i] =  levels[int(i/(181*360))]/(2.869*clim[i])"
   ]
  },
  {
   "cell_type": "markdown",
   "id": "dbec3cf2",
   "metadata": {},
   "source": [
    "## Volume weighted Anomalies"
   ]
  },
  {
   "cell_type": "code",
   "execution_count": null,
   "id": "98f6477b",
   "metadata": {},
   "outputs": [],
   "source": [
    "vweightedanom = stnd_anom * weightedA *np.sqrt(thickness) * np.sqrt(density)"
   ]
  },
  {
   "cell_type": "markdown",
   "id": "97a3ff77",
   "metadata": {},
   "source": [
    "# EOF computations"
   ]
  },
  {
   "cell_type": "code",
   "execution_count": null,
   "id": "4b0b8794",
   "metadata": {},
   "outputs": [],
   "source": [
    "df = pd.DataFrame(data = vweightedanom)\n",
    "dropna = df.dropna() #dropping NaN values out of matrix to do computations otherwise all values will be NaN\n",
    "NanlessAnom = dropna.to_numpy()\n",
    "NanlessAnom.shape "
   ]
  },
  {
   "cell_type": "code",
   "execution_count": null,
   "id": "236e06ba",
   "metadata": {},
   "outputs": [],
   "source": [
    "Sigma = np.matmul(NanlessAnom.T, NanlessAnom) #covariance matrix\n",
    "eigenvalues, eigenvectors = scipy.linalg.eig(Sigma) #obtaining eigenvalues and eigenvectors\n",
    "eigenvectors = eigenvectors.T"
   ]
  },
  {
   "cell_type": "code",
   "execution_count": null,
   "id": "48b1d3ab",
   "metadata": {},
   "outputs": [],
   "source": [
    "index = np.argsort(eigenvalues)[::-1] #sorting eigenvalues from largest to smallest\n",
    "eigvals = eigenvalues[index] #reordering eigenvalues\n",
    "eigvecs = eigenvectors[index] #reordering eigenvectors"
   ]
  },
  {
   "cell_type": "code",
   "execution_count": null,
   "id": "ecaf3638",
   "metadata": {},
   "outputs": [],
   "source": [
    "EOFS = []\n",
    "\n",
    "for j in range(0,vweightedanom.shape[1]):\n",
    "        EOFS.append(np.matmul(vweightedanom, eigvecs[j])/np.linalg.norm(np.matmul(NanlessAnom, eigvecs[j])))\n",
    "EOF1 = np.array(EOFS).T\n",
    "#Gets Geometric EOFs"
   ]
  },
  {
   "cell_type": "code",
   "execution_count": null,
   "id": "f6f8d80d",
   "metadata": {},
   "outputs": [],
   "source": [
    "np.seterr(divide='ignore', invalid='ignore')\n",
    "PhysicalEOFs = EOF1/(weightedA * np.sqrt(thickness) * np.sqrt(density)) #Gets Physical EOFs by dividing by weight factors"
   ]
  }
 ],
 "metadata": {
  "kernelspec": {
   "display_name": "Python 3 (ipykernel)",
   "language": "python",
   "name": "python3"
  },
  "language_info": {
   "codemirror_mode": {
    "name": "ipython",
    "version": 3
   },
   "file_extension": ".py",
   "mimetype": "text/x-python",
   "name": "python",
   "nbconvert_exporter": "python",
   "pygments_lexer": "ipython3",
   "version": "3.9.7"
  }
 },
 "nbformat": 4,
 "nbformat_minor": 5
}
