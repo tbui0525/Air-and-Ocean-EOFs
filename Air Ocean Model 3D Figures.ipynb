{
 "cells": [
  {
   "cell_type": "code",
   "execution_count": null,
   "id": "f8dd9682",
   "metadata": {},
   "outputs": [],
   "source": [
    "#You can !pip install these packages if you do not have them. Or if in Jupyter Notebook, go to Environments in Anaconda Navigator\n",
    "import netCDF4 as nc\n",
    "import numpy as np\n",
    "import os\n",
    "os.environ[\"PROJ_LIB\"] = \"C:\\\\Utilities\\\\Python\\\\Anaconda\\\\Library\\\\share\"; #fixr\n",
    "import plotly.express as px\n",
    "from numpy import linspace\n",
    "from numpy import meshgrid\n",
    "from netCDF4 import Dataset as ds\n",
    "\n",
    "import plotly.graph_objects as go\n",
    "from plotly.subplots import make_subplots\n",
    "\n",
    "from mpl_toolkits.basemap import Basemap"
   ]
  },
  {
   "cell_type": "markdown",
   "id": "06d0fd4f",
   "metadata": {},
   "source": [
    "## Setting up meshgrid, image projections, and colorscale before graphing"
   ]
  },
  {
   "cell_type": "code",
   "execution_count": null,
   "id": "2f7d7064",
   "metadata": {},
   "outputs": [],
   "source": [
    "#loading in Air meshgrids\n",
    "AirFile = nc.Dataset('data/air.mon.meanv3.nc')\n",
    "air_lats = AirFile.variables['lat'][:]\n",
    "air_lons = AirFile.variables['lon'][:]\n",
    "pressure = AirFile.variables['level'][:]\n",
    "airsize = AirFile.variables['air'][0].size\n",
    "xxair, yyair = np.meshgrid(air_lons, air_lats)\n",
    "#loading in Water meshgrids\n",
    "WaterFile = nc.Dataset('data/pottmp.1998.nc') #arbitary year chosen. All years have same dimensions\n",
    "water_lats = WaterFile.variables['lat'][:]\n",
    "water_lons = WaterFile.variables['lon'][:]\n",
    "depths = WaterFile.variables['level'][:]\n",
    "xxwater, yywater = np.meshgrid(water_lons, water_lats)"
   ]
  },
  {
   "cell_type": "code",
   "execution_count": null,
   "id": "63e005cd",
   "metadata": {},
   "outputs": [],
   "source": [
    "#obtaining image background set from basemap\n",
    "import skimage.io as sio\n",
    "image = sio.imread('data/Basemap Background.PNG')\n",
    "image.shape\n",
    "x = np.linspace(0,360, image.shape[1])\n",
    "y = np.linspace(-90,90, image.shape[0])\n",
    "xximage, yyimage = np.meshgrid(x,y)"
   ]
  },
  {
   "cell_type": "code",
   "execution_count": null,
   "id": "ebd848aa",
   "metadata": {},
   "outputs": [],
   "source": [
    "#Number of colors, choice color, etc can be adjusted. \n",
    "colors = [[0, \"black\"],[0.01, \"violet\"],[1/6+0.05, \"blue\"],[1/3, \"cyan\"],\n",
    "          [1/2, \"white\"],[2/3, \"yellow\"],[5/6, \"orange\"],[1, \"red\"]]"
   ]
  },
  {
   "cell_type": "markdown",
   "id": "2865efea",
   "metadata": {},
   "source": [
    "## Loading in and altering files for graphing"
   ]
  },
  {
   "cell_type": "code",
   "execution_count": null,
   "id": "1dec7452",
   "metadata": {},
   "outputs": [],
   "source": [
    "#This is just for January. Also works for other months if have files\n",
    "EOFs = np.load('data/January Physical EOFs.npy')"
   ]
  },
  {
   "cell_type": "code",
   "execution_count": null,
   "id": "6bffb732",
   "metadata": {},
   "outputs": [],
   "source": [
    "#For this example, we are graphing January EOF Mode 1. \n",
    "#For different modes, change second index to (mode # -1) \n",
    "lim = np.minimum(np.abs(np.nanmin(EOFs[:,0])), np.nanmax(EOFs[:,0]))\n",
    "PhysicalEOFs = np.clip(EOFs[:,0], -lim, lim)"
   ]
  },
  {
   "cell_type": "code",
   "execution_count": null,
   "id": "cede0eb5",
   "metadata": {},
   "outputs": [],
   "source": [
    "#Done to make values extreme as Plotly reads NaNs as 0's when graphing.\n",
    "for j in range(0, PhysicalEOFs.shape[0]):\n",
    "    if np.isnan(PhysicalEOFs[j,0]):\n",
    "        PhysicalEOFs[j,0] = 1 #set to positive 1 because EOF1 is flipped. \n",
    "        # When doing EOF2, set to negative 1. Check each EOF."
   ]
  },
  {
   "cell_type": "markdown",
   "id": "8458b9dd",
   "metadata": {},
   "source": [
    "## Plotting Air-Ocean Coupled EOF1 (Figure 2)"
   ]
  },
  {
   "cell_type": "code",
   "execution_count": null,
   "id": "e04d8989",
   "metadata": {},
   "outputs": [],
   "source": [
    "fig = go.Figure(data=[\n",
    "    go.Surface(x = xxwater, y= yywater, z=-5*np.ones(xxwater.shape),\n",
    "               surfacecolor =0-np.reshape(PhysicalEOFs[airsize: airsize+418*360], (418,360)) ,\n",
    "               colorscale = colors,  opacity = 1),\n",
    "])\n",
    "fig.add_trace(go.Surface(x = xximage, y = yyimage, z = 124.5 *np.ones(xximage.shape), \n",
    "                        surfacecolor = np.flipud(image[:,:,0])*lim/255, \n",
    "                        colorscale = 'Greys_r', showscale = False, opacity = 1))\n",
    "j = 0\n",
    "while (pressure[j] >= 10):\n",
    "    layer = j*5*np.ones(xxair.shape)\n",
    "    fig.add_trace(go.Surface(x =xxair, y =yyair, z=layer,\n",
    "                             surfacecolor =0-np.reshape(PhysicalEOFs[j*360*181: (j+1)*360*181],(181,360)),\n",
    "                             colorscale = colors, showscale = False, opacity = .5))\n",
    "    j+=1\n",
    "fig.update_traces(cmax= lim, selector=dict(type='surface'))\n",
    "fig.update_traces(cmin= -lim, selector=dict(type='surface'))\n",
    "fig.update_traces(colorbar_exponentformat=\"power\", colorbar_showexponent= \"none\")\n",
    "fig.update_traces(colorbar_title_text=r\"x10⁻⁵\", colorbar_title_font = dict(size =25))\n",
    "fig.update_traces(colorbar_tickfont = dict(size = 25))\n",
    "fig.update_layout(scene = dict(aspectratio = dict(x = 2, y = 1, z = 1.5)))\n",
    "\n",
    "fig.update_layout(title = 'January EOF1')\n",
    "fig.update_layout(scene = dict(\n",
    "                xaxis_title='Longitude',\n",
    "                yaxis_title='Latitude',\n",
    "                zaxis_title='Pressure'))\n",
    "fig.update_layout(template='plotly_dark')\n",
    "# Different types of customized ticks\n",
    "fig.update_layout(scene = dict(\n",
    "                    zaxis = dict(\n",
    "                        ticktext= ['1000','850','500','250', '50', '10'],\n",
    "                        tickvals= [0,25,60, 85, 110,125])))\n",
    "fig.update_scenes(xaxis = dict(tickfont=dict(size=14),titlefont=dict(size=16)))\n",
    "fig.update_scenes(yaxis = dict(tickfont=dict(size=14),titlefont=dict(size=16)))\n",
    "fig.update_scenes(zaxis = dict(tickfont=dict(size=14),titlefont=dict(size=16)))\n",
    "fig.show()\n",
    "fig.write_html(\"Jan 3D EOF1.html\") "
   ]
  },
  {
   "cell_type": "markdown",
   "id": "2c9bab24",
   "metadata": {},
   "source": [
    "## Plotting Air-Ocean Coupled EOF2 (Figure 7)"
   ]
  },
  {
   "cell_type": "code",
   "execution_count": null,
   "id": "41423286",
   "metadata": {},
   "outputs": [],
   "source": [
    "lim = np.minimum(np.abs(np.nanmin(EOFs[:,1])), np.nanmax(EOFs[:,1]))\n",
    "PhysicalEOFs = np.clip(EOFs[:,1], -lim, lim)"
   ]
  },
  {
   "cell_type": "code",
   "execution_count": null,
   "id": "660eb03f",
   "metadata": {},
   "outputs": [],
   "source": [
    "#Done to make values extreme as Plotly reads NaNs as 0's when graphing.\n",
    "for j in range(0, PhysicalEOFs.shape[0]):\n",
    "    if np.isnan(PhysicalEOFs[j,0]):\n",
    "        PhysicalEOFs[j,0] = -1 "
   ]
  },
  {
   "cell_type": "code",
   "execution_count": null,
   "id": "24a3d66d",
   "metadata": {},
   "outputs": [],
   "source": [
    "fig = go.Figure(data=[\n",
    "    go.Surface(x = xxwater, y= yywater, z=-5*np.ones(xxwater.shape),\n",
    "               surfacecolor =np.reshape(PhysicalEOFs[airsize: airsize+418*360], (418,360)) ,\n",
    "               colorscale = colors,  opacity = 1),\n",
    "])\n",
    "fig.add_trace(go.Surface(x = xximage, y = yyimage, z = 124.5 *np.ones(xximage.shape), \n",
    "                        surfacecolor = np.flipud(image[:,:,0])*lim/255, \n",
    "                        colorscale = 'Greys_r', showscale = False, opacity = 1))\n",
    "j = 0\n",
    "while (pressure[j] >= 10):\n",
    "    layer = j*5*np.ones(xxair.shape)\n",
    "    fig.add_trace(go.Surface(x =xxair, y =yyair, z=layer,\n",
    "                             surfacecolor =np.reshape(PhysicalEOFs[j*360*181: (j+1)*360*181],(181,360)),\n",
    "                             colorscale = colors, showscale = False, opacity = .5))\n",
    "    j+=1\n",
    "fig.update_traces(cmax= lim, selector=dict(type='surface'))\n",
    "fig.update_traces(cmin= -lim, selector=dict(type='surface'))\n",
    "fig.update_traces(colorbar_exponentformat=\"power\", colorbar_showexponent= \"none\")\n",
    "fig.update_traces(colorbar_title_text=r\"x10⁻⁵\", colorbar_title_font = dict(size =25))\n",
    "fig.update_traces(colorbar_tickfont = dict(size = 25))\n",
    "fig.update_layout(scene = dict(aspectratio = dict(x = 2, y = 1, z = 1.5)))\n",
    "\n",
    "fig.update_layout(title = 'January EOF2')\n",
    "fig.update_layout(scene = dict(\n",
    "                xaxis_title='Longitude',\n",
    "                yaxis_title='Latitude',\n",
    "                zaxis_title='Pressure'))\n",
    "fig.update_layout(template='plotly_dark')\n",
    "# Different types of customized ticks\n",
    "fig.update_layout(scene = dict(\n",
    "                    zaxis = dict(\n",
    "                        ticktext= ['1000','850','500','250', '50', '10'],\n",
    "                        tickvals= [0,25,60, 85, 110,125])))\n",
    "fig.update_scenes(xaxis = dict(tickfont=dict(size=14),titlefont=dict(size=16)))\n",
    "fig.update_scenes(yaxis = dict(tickfont=dict(size=14),titlefont=dict(size=16)))\n",
    "fig.update_scenes(zaxis = dict(tickfont=dict(size=14),titlefont=dict(size=16)))\n",
    "fig.show()\n",
    "fig.write_html(\"Jan 3D EOF2.html\") "
   ]
  },
  {
   "cell_type": "markdown",
   "id": "df5bf111",
   "metadata": {},
   "source": [
    "## Plotting Air Only EOF1 (Figure 10)"
   ]
  },
  {
   "cell_type": "code",
   "execution_count": null,
   "id": "fef2904f",
   "metadata": {},
   "outputs": [],
   "source": [
    "#Loading in EOFs that do not have ocean coupling\n",
    "EOFs = np.load('data/January Air Only Physical EOFs.npy')\n",
    "#limitting to EOF1\n",
    "lim = np.minimum(np.nanmax(EOFs[:,0]), np.abs(np.nanmin(EOFs[:,0])))\n",
    "PhysicalEOFs = np.clip(EOFs[:,0], -lim, lim)\n",
    "\n",
    "#No NaNs to worry about because no water data."
   ]
  },
  {
   "cell_type": "code",
   "execution_count": null,
   "id": "cba03426",
   "metadata": {},
   "outputs": [],
   "source": [
    "fig1 = go.Figure(data=[\n",
    "    go.Surface(x = xxair, y= yyair, z=np.zeros(xxair.shape),\n",
    "               surfacecolor =0-np.reshape(PhysicalEOFs[0: 181*360], (181,360)) ,\n",
    "               colorscale = colors,  opacity = 1),\n",
    "])\n",
    "fig1.add_trace(go.Surface(x = xximage, y = yyimage, z = 124.5 *np.ones(xximage.shape), \n",
    "                        surfacecolor = np.flipud(image[:,:,0])*lim/255, \n",
    "                        colorscale = 'Greys_r', showscale = False, opacity = 1))\n",
    "j = 1\n",
    "while (pressure[j] >= 10):\n",
    "    layer = j*5*np.ones(xxair.shape)\n",
    "    fig1.add_trace(go.Surface(x =xxair, y =yyair, z=layer,\n",
    "                             surfacecolor =0-np.reshape(PhysicalEOFs[j*360*181: (j+1)*360*181],(181,360)),\n",
    "                             colorscale = colors, showscale = False, opacity = .5))\n",
    "    j+=1\n",
    "fig1.update_traces(cmax= lim, selector=dict(type='surface'))\n",
    "fig1.update_traces(cmin= -lim, selector=dict(type='surface'))\n",
    "fig1.update_traces(colorbar_exponentformat=\"power\", colorbar_showexponent= \"none\")\n",
    "fig1.update_traces(colorbar_title_text=r\"x10⁻⁴\", colorbar_title_font = dict(size =25))\n",
    "fig1.update_traces(colorbar_tickfont = dict(size = 25))\n",
    "fig1.update_layout(scene = dict(aspectratio = dict(x = 2, y = 1, z = 1.5)))\n",
    "fig1.update_layout(template='plotly_dark')\n",
    "fig1.update_layout(title = 'January EOF1')\n",
    "fig1.update_layout(scene = dict(\n",
    "                xaxis_title='Longitude',\n",
    "                yaxis_title='Latitude',\n",
    "                zaxis_title='Pressure (mbar)'))\n",
    "\n",
    "# Different types of customized ticks\n",
    "fig1.update_layout(scene = dict(\n",
    "                    zaxis = dict(\n",
    "                        ticktext= ['1000','850','500','250', '50', '10'],\n",
    "                        tickvals= [0,25,60, 85, 110,125])))\n",
    "fig1.update_scenes(xaxis = dict(tickfont=dict(size=14),titlefont=dict(size=16)))\n",
    "fig1.update_scenes(yaxis = dict(tickfont=dict(size=14),titlefont=dict(size=16)))\n",
    "fig1.update_scenes(zaxis = dict(tickfont=dict(size=14),titlefont=dict(size=16)))\n",
    "fig1.write_html(\"Jan Air Only EOF1.html\")"
   ]
  },
  {
   "cell_type": "markdown",
   "id": "4d09ded4",
   "metadata": {},
   "source": [
    "## Plotting Air Only EOF2 (Figure 15)"
   ]
  },
  {
   "cell_type": "code",
   "execution_count": null,
   "id": "ff870678",
   "metadata": {},
   "outputs": [],
   "source": [
    "lim = np.minimum(np.nanmax(EOFs[:,1]), np.abs(np.nanmin(EOFs[:,1])))\n",
    "PhysicalEOFs = np.clip(EOFs[:,1], -lim, lim)"
   ]
  },
  {
   "cell_type": "code",
   "execution_count": null,
   "id": "a63ea88b",
   "metadata": {},
   "outputs": [],
   "source": [
    "fig1 = go.Figure(data=[\n",
    "    go.Surface(x = xxair, y= yyair, z=np.zeros(xxair.shape),\n",
    "               surfacecolor =np.reshape(PhysicalEOFs[0: 181*360], (181,360)) ,\n",
    "               colorscale = colors,  opacity = 1),\n",
    "])\n",
    "fig1.add_trace(go.Surface(x = xximage, y = yyimage, z = 124.5 *np.ones(xximage.shape), \n",
    "                        surfacecolor = np.flipud(image[:,:,0])*lim/255, \n",
    "                        colorscale = 'Greys_r', showscale = False, opacity = 1))\n",
    "j = 1\n",
    "while (pressure[j] >= 10):\n",
    "    layer = j*5*np.ones(xxair.shape)\n",
    "    fig1.add_trace(go.Surface(x =xxair, y =yyair, z=layer,\n",
    "                             surfacecolor =np.reshape(PhysicalEOFs[j*360*181: (j+1)*360*181],(181,360)),\n",
    "                             colorscale = colors, showscale = False, opacity = .5))\n",
    "    j+=1\n",
    "fig1.update_traces(cmax= lim, selector=dict(type='surface'))\n",
    "fig1.update_traces(cmin= -lim, selector=dict(type='surface'))\n",
    "fig1.update_traces(colorbar_exponentformat=\"power\", colorbar_showexponent= \"none\")\n",
    "fig1.update_traces(colorbar_title_text=r\"x10⁻⁴\", colorbar_title_font = dict(size =25))\n",
    "fig1.update_traces(colorbar_tickfont = dict(size = 25))\n",
    "fig1.update_layout(scene = dict(aspectratio = dict(x = 2, y = 1, z = 1.5)))\n",
    "fig1.update_layout(template='plotly_dark')\n",
    "fig1.update_layout(title = 'January EOF1')\n",
    "fig1.update_layout(scene = dict(\n",
    "                xaxis_title='Longitude',\n",
    "                yaxis_title='Latitude',\n",
    "                zaxis_title='Pressure (mbar)'))\n",
    "\n",
    "# Different types of customized ticks\n",
    "fig1.update_layout(scene = dict(\n",
    "                    zaxis = dict(\n",
    "                        ticktext= ['1000','850','500','250', '50', '10'],\n",
    "                        tickvals= [0,25,60, 85, 110,125])))\n",
    "fig1.update_scenes(xaxis = dict(tickfont=dict(size=14),titlefont=dict(size=16)))\n",
    "fig1.update_scenes(yaxis = dict(tickfont=dict(size=14),titlefont=dict(size=16)))\n",
    "fig1.update_scenes(zaxis = dict(tickfont=dict(size=14),titlefont=dict(size=16)))\n",
    "fig1.write_html(\"Jan Air Only EOF1.html\")"
   ]
  },
  {
   "cell_type": "markdown",
   "id": "b77cb652",
   "metadata": {},
   "source": [
    "## Climatology"
   ]
  },
  {
   "cell_type": "code",
   "execution_count": null,
   "id": "0918b64b",
   "metadata": {},
   "outputs": [],
   "source": [
    "clim = np.load('data/January Climatology.npy')"
   ]
  },
  {
   "cell_type": "code",
   "execution_count": null,
   "id": "7f34a565",
   "metadata": {},
   "outputs": [],
   "source": [
    "fig = go.Figure(data=[\n",
    "    go.Surface(x = xxwater, y= yywater, z=-5*np.ones(xxwater.shape),\n",
    "               surfacecolor =np.reshape(clim[airsize: airsize+418*360], (418,360)) ,\n",
    "               colorscale = colors,  opacity = 1),\n",
    "])\n",
    "fig.add_trace(go.Surface(x = xximage, y = yyimage, z = 124.5 *np.ones(xximage.shape), \n",
    "                        surfacecolor = np.flipud(image[:,:,0]), \n",
    "                        colorscale = 'Greys_r', showscale = False, opacity = 1))\n",
    "j = 0\n",
    "while (pressure[j] >= 10):\n",
    "    layer = j*5*np.ones(xxair.shape)\n",
    "    fig.add_trace(go.Surface(x =xxair, y =yyair, z=layer,\n",
    "                             surfacecolor =np.reshape(clim[j*360*181: (j+1)*360*181],(181,360)),\n",
    "                             colorscale = colors, showscale = False, opacity = .5))\n",
    "    j+=1\n",
    "fig.update_traces(cmax= 310, selector=dict(type='surface')) #top avg temp\n",
    "fig.update_traces(cmin= 188, selector=dict(type='surface')) #bottom avg temp\n",
    "fig.update_traces(colorbar_exponentformat=\"power\", colorbar_showexponent= \"none\")\n",
    "fig.update_traces(colorbar_title_text=r\"K\", colorbar_title_font = dict(size =25))\n",
    "fig.update_traces(colorbar_tickfont = dict(size = 25))\n",
    "fig.update_layout(scene = dict(aspectratio = dict(x = 2, y = 1, z = 1.5)))\n",
    "\n",
    "fig.update_layout(title = 'January Climatology')\n",
    "fig.update_layout(scene = dict(\n",
    "                xaxis_title='Longitude',\n",
    "                yaxis_title='Latitude',\n",
    "                zaxis_title='Pressure'))\n",
    "fig.update_layout(template='plotly_dark')\n",
    "# Different types of customized ticks\n",
    "fig.update_layout(scene = dict(\n",
    "                    zaxis = dict(\n",
    "                        ticktext= ['1000','850','500','250', '50', '10'],\n",
    "                        tickvals= [0,25,60, 85, 110,125])))\n",
    "fig.update_scenes(xaxis = dict(tickfont=dict(size=14),titlefont=dict(size=16)))\n",
    "fig.update_scenes(yaxis = dict(tickfont=dict(size=14),titlefont=dict(size=16)))\n",
    "fig.update_scenes(zaxis = dict(tickfont=dict(size=14),titlefont=dict(size=16)))\n",
    "fig.show()\n",
    "fig.write_html(\"January Climatology.html\") "
   ]
  },
  {
   "cell_type": "markdown",
   "id": "dbc94784",
   "metadata": {},
   "source": [
    "## Standard Deviation"
   ]
  },
  {
   "cell_type": "code",
   "execution_count": null,
   "id": "63f47276",
   "metadata": {},
   "outputs": [],
   "source": [
    "st_dev = np.load('data/January St Dev.npy')"
   ]
  },
  {
   "cell_type": "code",
   "execution_count": null,
   "id": "2968567c",
   "metadata": {},
   "outputs": [],
   "source": [
    "fig = go.Figure(data=[\n",
    "    go.Surface(x = xxwater, y= yywater, z=-5*np.ones(xxwater.shape),\n",
    "               surfacecolor =np.reshape(clim[airsize: airsize+418*360], (418,360)) ,\n",
    "               colorscale = colors,  opacity = 1),\n",
    "])\n",
    "fig.add_trace(go.Surface(x = xximage, y = yyimage, z = 124.5 *np.ones(xximage.shape), \n",
    "                        surfacecolor = np.flipud(image[:,:,0])/45, \n",
    "                        colorscale = 'Greys_r', showscale = False, opacity = 1))\n",
    "j = 0\n",
    "while (pressure[j] >= 10):\n",
    "    layer = j*5*np.ones(xxair.shape)\n",
    "    fig.add_trace(go.Surface(x =xxair, y =yyair, z=layer,\n",
    "                             surfacecolor =np.reshape(clim[j*360*181: (j+1)*360*181],(181,360)),\n",
    "                             colorscale = colors, showscale = False, opacity = .5))\n",
    "    j+=1\n",
    "fig.update_traces(cmax= 6, selector=dict(type='surface')) #top avg temp\n",
    "fig.update_traces(cmin= 0, selector=dict(type='surface')) #bottom avg temp\n",
    "fig.update_traces(colorbar_exponentformat=\"power\", colorbar_showexponent= \"none\")\n",
    "fig.update_traces(colorbar_title_text=r\"K\", colorbar_title_font = dict(size =25))\n",
    "fig.update_traces(colorbar_tickfont = dict(size = 25))\n",
    "fig.update_layout(scene = dict(aspectratio = dict(x = 2, y = 1, z = 1.5)))\n",
    "\n",
    "fig.update_layout(title = 'January Standard Deviation')\n",
    "fig.update_layout(scene = dict(\n",
    "                xaxis_title='Longitude',\n",
    "                yaxis_title='Latitude',\n",
    "                zaxis_title='Pressure'))\n",
    "fig.update_layout(template='plotly_dark')\n",
    "# Different types of customized ticks\n",
    "fig.update_layout(scene = dict(\n",
    "                    zaxis = dict(\n",
    "                        ticktext= ['1000','850','500','250', '50', '10'],\n",
    "                        tickvals= [0,25,60, 85, 110,125])))\n",
    "fig.update_scenes(xaxis = dict(tickfont=dict(size=14),titlefont=dict(size=16)))\n",
    "fig.update_scenes(yaxis = dict(tickfont=dict(size=14),titlefont=dict(size=16)))\n",
    "fig.update_scenes(zaxis = dict(tickfont=dict(size=14),titlefont=dict(size=16)))\n",
    "fig.show()\n",
    "fig.write_html(\"January Standard Deviation.html\") "
   ]
  }
 ],
 "metadata": {
  "kernelspec": {
   "display_name": "Python 3 (ipykernel)",
   "language": "python",
   "name": "python3"
  },
  "language_info": {
   "codemirror_mode": {
    "name": "ipython",
    "version": 3
   },
   "file_extension": ".py",
   "mimetype": "text/x-python",
   "name": "python",
   "nbconvert_exporter": "python",
   "pygments_lexer": "ipython3",
   "version": "3.9.7"
  }
 },
 "nbformat": 4,
 "nbformat_minor": 5
}
