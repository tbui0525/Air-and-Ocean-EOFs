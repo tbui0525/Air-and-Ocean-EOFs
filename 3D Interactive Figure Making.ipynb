{
 "cells": [
  {
   "cell_type": "code",
   "execution_count": 2,
   "id": "7434cd25",
   "metadata": {},
   "outputs": [],
   "source": [
    "import netCDF4 as nc\n",
    "from netCDF4 import Dataset\n",
    "import numpy as np\n",
    "import plotly\n",
    "import plotly.graph_objects as go"
   ]
  },
  {
   "cell_type": "markdown",
   "id": "f32a48b5",
   "metadata": {},
   "source": [
    "# Obtaining meshgrids for graphing"
   ]
  },
  {
   "cell_type": "code",
   "execution_count": 5,
   "id": "cc6bdbb4",
   "metadata": {},
   "outputs": [],
   "source": [
    "water_file = nc.Dataset('data/pottmp.1998.nc')\n",
    "water_lons = wetfile.variables['lon'][:]\n",
    "water_lats = wetfile.variables['lat'][:]\n",
    "\n",
    "air_file = nc.Dataset('data/air.mon.meanv3.nc')\n",
    "air_lons = dryfile.variables['lon'][:]\n",
    "air_lats = dryfile.variables['lat'][:]\n",
    "pressure = dryfile.variables['level'][:]"
   ]
  },
  {
   "cell_type": "code",
   "execution_count": null,
   "id": "997b09b0",
   "metadata": {},
   "outputs": [],
   "source": [
    "air_size = air_file.variables['air'][0].size\n",
    "layer = air_file.variables['air'][0,0].size\n",
    "airheights = np.load('January airheights.npy')\n",
    "xxair, yyair = np.meshgrid(air_lons, air_lats)\n",
    "xxwater, yywater = np.meshgrid(water_lons, water_lats)"
   ]
  },
  {
   "cell_type": "code",
   "execution_count": null,
   "id": "a9394939",
   "metadata": {},
   "outputs": [],
   "source": [
    "A= np.reshape(airheights[0:181*360], (181, 360))"
   ]
  },
  {
   "cell_type": "markdown",
   "id": "5b8c5020",
   "metadata": {},
   "source": [
    "# Getting File and clipping max and min values"
   ]
  },
  {
   "cell_type": "code",
   "execution_count": null,
   "id": "cde1d6ac",
   "metadata": {},
   "outputs": [],
   "source": [
    "#This is just for January. Also works for other months respectively\n",
    "EOFs = np.load('January Physical EOFs.npy')"
   ]
  },
  {
   "cell_type": "code",
   "execution_count": null,
   "id": "ea7f174f",
   "metadata": {},
   "outputs": [],
   "source": [
    "#For this example, we are graphing January EOF Mode 1. \n",
    "#For different modes, change 0 to (mode # -1)\n",
    "lim = np.minimum(np.abs(np.nanmin(EOFs[:,0])), np.nanmax(EOFs[:,0]))\n",
    "PhysicalEOFs = np.clip(EOFs[:,0], -lim, lim)"
   ]
  },
  {
   "cell_type": "code",
   "execution_count": null,
   "id": "d38073b5",
   "metadata": {},
   "outputs": [],
   "source": [
    "#Done to make values extreme as Plotly reads NaNs as 0's when graphing.\n",
    "for j in range(0, PhysicalEOFs.shape[0]):\n",
    "    if np.isnan(PhysicalEOFs[j,0]):\n",
    "        PhysicalEOFs[j,0] = 1"
   ]
  },
  {
   "cell_type": "markdown",
   "id": "7ee7ec0e",
   "metadata": {},
   "source": [
    "# Creating Custom Colorscale for Figure"
   ]
  },
  {
   "cell_type": "code",
   "execution_count": null,
   "id": "2242402a",
   "metadata": {},
   "outputs": [],
   "source": [
    "#Number of colors, choice color, etc can be adjusted. \n",
    "colors = [[0, \"black\"],[0.01, \"violet\"],[1/6+0.05, \"blue\"],[1/3, \"cyan\"],\n",
    "          [1/2, \"white\"],[2/3, \"yellow\"],[5/6, \"orange\"],[1, \"red\"]]"
   ]
  },
  {
   "cell_type": "markdown",
   "id": "75584a56",
   "metadata": {},
   "source": [
    "# Graphing and Exporting 3D Figure"
   ]
  },
  {
   "cell_type": "code",
   "execution_count": null,
   "id": "6ca15c5b",
   "metadata": {},
   "outputs": [],
   "source": [
    "# 0 minus because vectors parity. This must be checked manually when graphing\n",
    "fig = go.Figure(data=[\n",
    "    go.Surface(x = xxair, y= yyair, z=A, \n",
    "               surfacecolor = 0-np.reshape(PhysicalEOFs[0:181*360*1,0],xxair.shape),\n",
    "               colorscale = colors,  opacity = 1),\n",
    "])\n",
    "for i in range(0,25):\n",
    "#Flexible to however many layers wanted. This is for 25 layers up\n",
    "    B = np.reshape(airheights[i*layer:(i+1)*layer], xxair.shape)\n",
    "    fig.add_trace(go.Surface(x =xxair, y =yyair, z=B,\n",
    "                             surfacecolor = 0-np.reshape(PhysicalEOFs[layer*i:layer*(i+1),0],xxair.shape),\n",
    "                             colorscale = 'Edge', showscale = False, opacity = 0.9))\n",
    "\n",
    "fig.add_trace(go.Surface(x =xxwater, y =yywater, z=np.ones(xxwater.shape)*-5,\n",
    "                        surfacecolor = 0-np.reshape(PhysicalEOFs[air_size:,0],xxwater.shape),\n",
    "                         colorscale = colors, showscale = False, opacity = 1))\n",
    "\n",
    "fig.update_traces(cmax=lim, selector=dict(type='surface'))\n",
    "fig.update_traces(cmin=-lim, selector=dict(type='surface'))\n",
    "\n",
    "#Colorbar formatting. Can change to one's liking\n",
    "fig.update_traces(colorbar_exponentformat=\"power\", colorbar_showexponent= \"none\")\n",
    "fig.update_traces(colorbar_tickfont_size=20)\n",
    "fig.update_traces(colorbar_thickness=45)\n",
    "fig.update_traces(colorbar=dict(title=dict(text=r'x 10^{-5}'), xpad = 50))\n",
    "fig.update_traces(colorbar_title_font_size=15)\n",
    "\n",
    "\n",
    "fig.update_layout(title = 'January Physical EOFs Mode 1',\n",
    "                 scene = dict(aspectratio=dict(x=1.75,y=1,z=1.5)))\n",
    "fig.update_layout(scene = dict(\n",
    "                xaxis_title='Longitude',\n",
    "                yaxis_title='Latitude',\n",
    "                zaxis_title='Meters'))\n",
    "fig.write_html(\"Jan 3D Physical EOFs (5m down).html\")"
   ]
  }
 ],
 "metadata": {
  "kernelspec": {
   "display_name": "Python 3 (ipykernel)",
   "language": "python",
   "name": "python3"
  },
  "language_info": {
   "codemirror_mode": {
    "name": "ipython",
    "version": 3
   },
   "file_extension": ".py",
   "mimetype": "text/x-python",
   "name": "python",
   "nbconvert_exporter": "python",
   "pygments_lexer": "ipython3",
   "version": "3.9.7"
  }
 },
 "nbformat": 4,
 "nbformat_minor": 5
}
